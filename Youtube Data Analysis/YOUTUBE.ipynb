{
 "cells": [
  {
   "cell_type": "code",
   "execution_count": 1,
   "id": "02c94e8a",
   "metadata": {},
   "outputs": [],
   "source": [
    "import numpy as np\n",
    "import pandas as pd"
   ]
  },
  {
   "cell_type": "code",
   "execution_count": 2,
   "id": "eabb8b17",
   "metadata": {},
   "outputs": [],
   "source": [
    "#create an iam account\n",
    "#create bucket on amazon s3\n",
    "#aws glue catalog-extract meta data about data using crawler\n",
    "#use athena and sql to query data\n",
    "#semi_str__to str_data pipelien-\n",
    "#json-s3-aws lambda json to apache aprquet-s3-aws glue-athena"
   ]
  },
  {
   "cell_type": "code",
   "execution_count": null,
   "id": "e918b5ba",
   "metadata": {},
   "outputs": [],
   "source": []
  }
 ],
 "metadata": {
  "kernelspec": {
   "display_name": "Python 3 (ipykernel)",
   "language": "python",
   "name": "python3"
  },
  "language_info": {
   "codemirror_mode": {
    "name": "ipython",
    "version": 3
   },
   "file_extension": ".py",
   "mimetype": "text/x-python",
   "name": "python",
   "nbconvert_exporter": "python",
   "pygments_lexer": "ipython3",
   "version": "3.9.12"
  }
 },
 "nbformat": 4,
 "nbformat_minor": 5
}
